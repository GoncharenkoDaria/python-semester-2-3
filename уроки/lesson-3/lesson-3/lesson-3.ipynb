{
 "cells": [
  {
   "cell_type": "markdown",
   "metadata": {},
   "source": [
    "# Занятие 3"
   ]
  },
  {
   "cell_type": "markdown",
   "metadata": {},
   "source": [
    "## NumPy"
   ]
  },
  {
   "cell_type": "markdown",
   "metadata": {},
   "source": [
    "### 0. Небольшой экскурс в модули"
   ]
  },
  {
   "cell_type": "markdown",
   "metadata": {},
   "source": [
    "#### 0.1. Модуль"
   ]
  },
  {
   "cell_type": "markdown",
   "metadata": {},
   "source": [
    "**Модуль** - любой файл с программой"
   ]
  },
  {
   "cell_type": "code",
   "execution_count": null,
   "metadata": {},
   "outputs": [],
   "source": [
    "print(\"Hello World\")"
   ]
  },
  {
   "cell_type": "markdown",
   "metadata": {},
   "source": [
    "#### 0.2. Использование модулей"
   ]
  },
  {
   "cell_type": "markdown",
   "metadata": {},
   "source": [
    "Существует также несколько способов использования модулей:\n",
    "1. Стандартное мпортирование"
   ]
  },
  {
   "cell_type": "code",
   "execution_count": null,
   "metadata": {},
   "outputs": [],
   "source": [
    "#### 1\n",
    "import math\n",
    "\n",
    "print(math.pi)"
   ]
  },
  {
   "cell_type": "markdown",
   "metadata": {},
   "source": [
    "2. Импортирование с заданием имени при обращении к модулю"
   ]
  },
  {
   "cell_type": "code",
   "execution_count": null,
   "metadata": {},
   "outputs": [],
   "source": [
    "import math as m\n",
    "\n",
    "print(m.pi)"
   ]
  },
  {
   "cell_type": "markdown",
   "metadata": {},
   "source": [
    "3. Импортирование конкретных переменных/функций/методов/классов"
   ]
  },
  {
   "cell_type": "code",
   "execution_count": null,
   "metadata": {},
   "outputs": [],
   "source": [
    "from math import pi\n",
    "\n",
    "print(pi)"
   ]
  },
  {
   "cell_type": "markdown",
   "metadata": {},
   "source": [
    "#### 0.3. Виды модулей"
   ]
  },
  {
   "cell_type": "markdown",
   "metadata": {},
   "source": [
    "##### 0.3.1. Модули стандартной библиотеки (random, math, time, ...)"
   ]
  },
  {
   "cell_type": "markdown",
   "metadata": {},
   "source": [
    "Доступны для использования сразу после установки Python"
   ]
  },
  {
   "cell_type": "code",
   "execution_count": null,
   "metadata": {},
   "outputs": [],
   "source": [
    "import random\n",
    "import math\n",
    "\n",
    "print(math.pi * random.randint(0,1))"
   ]
  },
  {
   "cell_type": "markdown",
   "metadata": {},
   "source": [
    "##### 0.3.2. Загружаемые модули"
   ]
  },
  {
   "cell_type": "markdown",
   "metadata": {},
   "source": [
    "Загружаются через установщик `pip` (`pip3`):\n",
    "\n",
    "```bash\n",
    "pip3 install numpy\n",
    "```\n",
    "\n",
    "После чего он доступен к использованию"
   ]
  },
  {
   "cell_type": "code",
   "execution_count": null,
   "metadata": {},
   "outputs": [],
   "source": [
    "import numpy\n",
    "\n",
    "print(numpy.pi)"
   ]
  },
  {
   "cell_type": "markdown",
   "metadata": {},
   "source": [
    "##### 0.3.3. Собственный модуль"
   ]
  },
  {
   "cell_type": "markdown",
   "metadata": {},
   "source": [
    "1. Пишется некоторый код, сохраняется в файл\n",
    "2. В той же папке _(примечание: модуль можно использовать и из других папок, но это требует отдельного рассказа)_ создается еще один файл\n",
    "3. Файл импортируется в другой _(примечание: но не вместе)_\n",
    "\n",
    "Пример представлен в папке `myModuleTest`"
   ]
  },
  {
   "cell_type": "markdown",
   "metadata": {},
   "source": [
    "### 1. NumPy = математика"
   ]
  },
  {
   "cell_type": "markdown",
   "metadata": {},
   "source": [
    "#### 1.0. Информация и установка"
   ]
  },
  {
   "cell_type": "markdown",
   "metadata": {},
   "source": [
    "**NumPy** - это библиотека языка Python, добавляющая поддержку больших многомерных массивов и матриц, вместе с большой библиотекой высокоуровневых (и очень быстрых) математических функций для операций с этими массивами."
   ]
  },
  {
   "cell_type": "markdown",
   "metadata": {},
   "source": [
    "Для установки NumPy можно использовать пакетный менеджер `pip`, используя команду:\n",
    "\n",
    "```bash\n",
    "pip3 install numpy\n",
    "```\n",
    "\n",
    "Или скачать c [официального сайта](https://numpy.org/install/)"
   ]
  },
  {
   "cell_type": "markdown",
   "metadata": {},
   "source": [
    "#### 1.1. Начало работы"
   ]
  },
  {
   "cell_type": "markdown",
   "metadata": {},
   "source": [
    "Основным объектом является однородный многомерный массив (элементы массива являются одного типа).\n",
    "В NumPy он представлен типом `numpy.ndarray` и обладает следующими атрибутами:\n",
    "\n",
    "* `ndarray.ndim` - число измерений (чаще их называют \"оси\") массива.\n",
    "\n",
    "* `ndarray.shape` - размеры массива, его форма. Это кортеж натуральных чисел, показывающий длину массива по каждой оси. Для матрицы из n строк и m столбов, shape будет (n,m). Число элементов кортежа shape равно ndim.\n",
    "\n",
    "* `ndarray.size` - количество элементов массива. Очевидно, равно произведению всех элементов атрибута shape.\n",
    "\n",
    "* `ndarray.dtype` - объект, описывающий тип элементов массива. Можно определить dtype, используя стандартные типы данных Python. NumPy здесь предоставляет целый букет возможностей, как встроенных, например: bool_, character, int8, int16, int32, int64, float8, float16, float32, float64, complex64, object_, так и возможность определить собственные типы данных, в том числе и составные.\n",
    "\n",
    "* `ndarray.itemsize` - размер каждого элемента массива в байтах.\n",
    "\n",
    "* `ndarray.data` - буфер, содержащий фактические элементы массива. Обычно не нужно использовать этот атрибут, так как обращаться к элементам массива проще всего с помощью индексов."
   ]
  },
  {
   "cell_type": "markdown",
   "metadata": {},
   "source": [
    "#### 1.2. Создание массива"
   ]
  },
  {
   "cell_type": "markdown",
   "metadata": {},
   "source": [
    "1. `numpy.array()` - создает объект типа `ndarray` из списков или кортежей **Python**"
   ]
  },
  {
   "cell_type": "code",
   "execution_count": null,
   "metadata": {},
   "outputs": [],
   "source": [
    "import numpy as np\n",
    "\n",
    "arr = np.array([1,2,3])\n",
    "\n",
    "print(f\"arr = {arr}\")\n",
    "print(f\"тип = {type(arr)}\")\n",
    "print(f\"осей массива = {arr.ndim}\")\n",
    "print(f\"размер массива = {arr.shape}\")\n",
    "print(f\"кол-во элементов = {arr.size}\")\n",
    "print(f\"тип элемента массива = {arr.dtype}\")\n",
    "print(f\"размер каждого элемента в байтах = {arr.itemsize}\")\n",
    "print(f\"элементы массива = {arr.data}\")"
   ]
  },
  {
   "cell_type": "markdown",
   "metadata": {},
   "source": [
    "2. `numpy.zeroes()` - n-мерный массив из нулей (`np.ones()` - из единиц)"
   ]
  },
  {
   "cell_type": "code",
   "execution_count": null,
   "metadata": {},
   "outputs": [],
   "source": [
    "import numpy as np\n",
    "\n",
    "arr = np.zeros(5, dtype=int)\n",
    "print(f\"Массив из 5 нулей =\\n{arr}\\n\")\n",
    "\n",
    "arr = np.ones((2, 3))\n",
    "print(f\"2-мерный массив размерности 2 на 3 из единиц =\\n{arr}\")"
   ]
  },
  {
   "cell_type": "markdown",
   "metadata": {},
   "source": [
    "3. `numpy.eye()` - единичная матрица (двумерный массив)"
   ]
  },
  {
   "cell_type": "code",
   "execution_count": null,
   "metadata": {},
   "outputs": [],
   "source": [
    "import numpy as np\n",
    "\n",
    "arr = np.eye(5)\n",
    "\n",
    "print(f\"Единичная матрица размера 5:\\n{arr}\")"
   ]
  },
  {
   "cell_type": "markdown",
   "metadata": {},
   "source": [
    "4. `numpy.empty()` - пустой n-мерный массив (содержимое зависит от состояния памяти на момент заполнения)"
   ]
  },
  {
   "cell_type": "code",
   "execution_count": null,
   "metadata": {},
   "outputs": [],
   "source": [
    "import numpy as np\n",
    "\n",
    "arr = np.empty((3,3))\n",
    "\n",
    "print(f\"Пустая матрица 3 на 3:\\n{arr}\")"
   ]
  },
  {
   "cell_type": "markdown",
   "metadata": {},
   "source": [
    "5. `numpy.arrange(start, stop, step)` - генерирует массивб начиная с числа `start`, заканчивая `stop` с шагом `step`. Числа могут быть нецелыми."
   ]
  },
  {
   "cell_type": "code",
   "execution_count": null,
   "metadata": {},
   "outputs": [],
   "source": [
    "import numpy as np\n",
    "\n",
    "arr = np.arange(0,1,0.1)\n",
    "\n",
    "print(f\"Массив от 0 до 1 с шагом 0.1:\\n{arr}\")"
   ]
  },
  {
   "cell_type": "markdown",
   "metadata": {},
   "source": [
    "6. `numpy.fromfunction()` - применяет некоторую функцию ко всем комбинациям индексов"
   ]
  },
  {
   "cell_type": "code",
   "execution_count": null,
   "metadata": {},
   "outputs": [],
   "source": [
    "import numpy as np\n",
    "\n",
    "def transform(i, j):\n",
    "  return (i + 1) * (j + 1)\n",
    "\n",
    "arr = np.fromfunction(transform, (3,3))\n",
    "\n",
    "print(f\"Матрица 3 на 3 с примененной на нее функцией:\\n{arr}\")"
   ]
  },
  {
   "cell_type": "markdown",
   "metadata": {},
   "source": [
    "Существуют и еще методы создания, которые могут быть найдены в [официальной документации](https://numpy.org/doc/stable/user/index.html)"
   ]
  },
  {
   "cell_type": "markdown",
   "metadata": {},
   "source": [
    "#### 1.3. Особенности распечатки массивов"
   ]
  },
  {
   "cell_type": "markdown",
   "metadata": {},
   "source": [
    "Если массив слишком большой, то NumPy автоматически скрывает центральную часть массива и выводит только его начало и конец."
   ]
  },
  {
   "cell_type": "code",
   "execution_count": null,
   "metadata": {},
   "outputs": [],
   "source": [
    "import numpy as np\n",
    "\n",
    "print(np.arange(1, 1002, 1))"
   ]
  },
  {
   "cell_type": "markdown",
   "metadata": {},
   "source": [
    "Чтобы настроить печать массивов можно использовать следующую глобальную настройку их печати: `numpy.set_printoptions()`, которая принимает следующие параметры:\n",
    "\n",
    "* `precision` - количество отображаемых цифр после запятой (по умолчанию 8)\n",
    "\n",
    "* `threshold` - количество элементов в массиве, вызывающее обрезание элементов (по умолчанию 1000).\n",
    "\n",
    "* `edgeitems` - количество элементов в начале и в конце каждой размерности массива (по умолчанию 3).\n",
    "\n",
    "* `linewidth` - количество символов в строке, после которых осуществляется перенос (по умолчанию 75).\n",
    "\n",
    "* `suppress` - если True, не печатает маленькие значения в scientific notation (по умолчанию False).\n",
    "\n",
    "* `nanstr` - строковое представление NaN (по умолчанию 'nan').\n",
    "\n",
    "* `infstr` - строковое представление inf (по умолчанию 'inf').\n",
    "\n",
    "* `formatter` - позволяет более тонко управлять печатью массивов. Здесь я его рассматривать не буду, можете почитать здесь (на английском)."
   ]
  },
  {
   "cell_type": "code",
   "execution_count": null,
   "metadata": {},
   "outputs": [],
   "source": [
    "import numpy as np\n",
    "\n",
    "np.set_printoptions(threshold=10000)\n",
    "print(np.arange(1, 2500, 1))\n",
    "\n",
    "# arr = np.array([np.inf])\n",
    "# np.set_printoptions(infstr=\"ничего\")\n",
    "# print(arr)"
   ]
  },
  {
   "cell_type": "markdown",
   "metadata": {},
   "source": [
    "#### 1.4. Базовые операции"
   ]
  },
  {
   "cell_type": "markdown",
   "metadata": {},
   "source": [
    "1. Математические операции - выполняются поэлементно (размеры массивов должны _совпадать_). Создается новый массив, являющийся результатом."
   ]
  },
  {
   "cell_type": "code",
   "execution_count": null,
   "metadata": {},
   "outputs": [],
   "source": [
    "import numpy as np\n",
    "\n",
    "arr1 = np.array([10,20,30,40,50])\n",
    "arr2 = np.array([1,2,3,4,5])\n",
    "\n",
    "print(f\"Сложение = {arr1 + arr2}\")\n",
    "print(f\"Вычитание = {arr1 - arr2}\")\n",
    "print(f\"Умножение = {arr1 * arr2}\")\n",
    "print(f\"Деление = {arr1 / arr2}\")\n",
    "print(f\"Взятие остатка = {arr1 % arr2}\")\n",
    "print(f\"Возведение в степень = {arr1 ** arr2}\")"
   ]
  },
  {
   "cell_type": "markdown",
   "metadata": {},
   "source": [
    "Также можно производить математические операции между массивом и числом."
   ]
  },
  {
   "cell_type": "code",
   "execution_count": null,
   "metadata": {},
   "outputs": [],
   "source": [
    "import numpy as np\n",
    "\n",
    "arr = np.array([10,20,30,40,50])\n",
    "num = 5\n",
    "\n",
    "print(f\"Сложение = {arr + num}\")\n",
    "print(f\"Вычитание = {arr - num}\")\n",
    "print(f\"Умножение = {arr * num}\")\n",
    "print(f\"Деление = {arr / num}\")\n",
    "print(f\"Взятие остатка = {arr % num}\")\n",
    "print(f\"Возведение в степень = {arr ** num}\")"
   ]
  },
  {
   "cell_type": "markdown",
   "metadata": {},
   "source": [
    "2. Математические операции, которые предоставляет сам NumPy (полный список доступен по [ссылке](https://numpy.org/doc/stable/reference/routines.math.html))"
   ]
  },
  {
   "cell_type": "code",
   "execution_count": null,
   "metadata": {},
   "outputs": [],
   "source": [
    "import numpy as np\n",
    "\n",
    "arr = np.array([1,2,3,4,5])\n",
    "\n",
    "print(f\"sin ко всем элементам = {np.sin(arr)}\")\n",
    "print(f\"cos ко всем элементам  = {np.cos(arr)}\")"
   ]
  },
  {
   "cell_type": "markdown",
   "metadata": {},
   "source": [
    "3. Унарные операции (как вычисление суммы или нахождение минимума или максимума) (можно найти также по этой [ссылке](https://numpy.org/doc/stable/reference/routines.math.html))"
   ]
  },
  {
   "cell_type": "code",
   "execution_count": null,
   "metadata": {},
   "outputs": [],
   "source": [
    "import numpy as np\n",
    "\n",
    "arr = np.array([1,2,3,4,5])\n",
    "\n",
    "print(f\"сумма элементов = {arr.sum()}\")\n",
    "print(f\"перемножение = {arr.prod()}\")\n",
    "print(f\"min = {arr.min()}\")\n",
    "print(f\"max = {arr.max()}\")"
   ]
  },
  {
   "cell_type": "markdown",
   "metadata": {},
   "source": [
    "Применять некоторые операции также можно и к определенной оси n-мерного массива"
   ]
  },
  {
   "cell_type": "code",
   "execution_count": null,
   "metadata": {},
   "outputs": [],
   "source": [
    "import numpy as np\n",
    "\n",
    "arr = np.array([[1,2,3],\n",
    "                [4,5,6],\n",
    "                [7,8,9]])\n",
    "\n",
    "print(f\"min в каждом столбце = {arr.min(axis=0)}\")\n",
    "print(f\"min в каждой строке = {arr.min(axis=1)}\")"
   ]
  },
  {
   "cell_type": "markdown",
   "metadata": {},
   "source": [
    "#### 1.5. Срезы"
   ]
  },
  {
   "cell_type": "markdown",
   "metadata": {},
   "source": [
    "Срезы работают ровно также, как и с обычными списками в языке Python. Запрещены лишь операции удаления (почему?)"
   ]
  },
  {
   "cell_type": "code",
   "execution_count": null,
   "metadata": {},
   "outputs": [],
   "source": [
    "import numpy as np\n",
    "\n",
    "arr = np.array([1,2,3,4,5])\n",
    "\n",
    "print(f\"arr[1:1] = {arr[1:1]}\")\n",
    "print(f\"arr[2:3] = {arr[2:3]}\")\n",
    "print(f\"arr[::-1] = {arr[::-1]}\")\n",
    "\n",
    "arr[1:3] = 23\n",
    "print(f\"arr[1:3] = 8 => {arr}\")\n",
    "\n",
    "del arr[1:1] # ошибка!"
   ]
  },
  {
   "cell_type": "markdown",
   "metadata": {},
   "source": [
    "Если речь идет о n-мерном массиве, то можно передавать индексы для срезов для каждой оси через запятую (по сути, кортежами)"
   ]
  },
  {
   "cell_type": "code",
   "execution_count": null,
   "metadata": {},
   "outputs": [],
   "source": [
    "import numpy as np\n",
    "\n",
    "arr = np.array([[1,2,3],\n",
    "                [4,5,6],\n",
    "                [7,8,9]])\n",
    "\n",
    "print(f\"arr[::-1, ::-1] =\\n{arr[::-1, ::-1]}\\n\")\n",
    "\n",
    "# Если индексов меньше, чем осей, то предполагается дополнение с помозщью срезов,\n",
    "# то есть выглядит так: arr[::-1, :]\n",
    "print(f\"arr[::-1] =\\n{arr[::-1]}\") "
   ]
  },
  {
   "cell_type": "markdown",
   "metadata": {},
   "source": [
    "#### 1.6. Индексация"
   ]
  },
  {
   "cell_type": "markdown",
   "metadata": {},
   "source": [
    "Возможно обращение по индексу несколькими способами"
   ]
  },
  {
   "cell_type": "code",
   "execution_count": null,
   "metadata": {},
   "outputs": [],
   "source": [
    "import numpy as np\n",
    "\n",
    "arr = np.array([[1,2,3],\n",
    "                [4,5,6],\n",
    "                [7,8,9]])\n",
    "\n",
    "print(f\"arr[1][2] = {arr[1][2]}\")\n",
    "print(f\"arr[1,2] = {arr[1,2]}\")\n",
    "print(f\"arr[(1,2)] = {arr[(1,2)]}\")"
   ]
  },
  {
   "cell_type": "markdown",
   "metadata": {},
   "source": [
    "Итерирование соответсвует работе со списками"
   ]
  },
  {
   "cell_type": "code",
   "execution_count": null,
   "metadata": {},
   "outputs": [],
   "source": [
    "import numpy as np\n",
    "\n",
    "arr = np.array([[1,2,3],\n",
    "                [4,5,6],\n",
    "                [7,8,9]])\n",
    "\n",
    "for row in arr:\n",
    "  print(row)"
   ]
  },
  {
   "cell_type": "markdown",
   "metadata": {},
   "source": [
    "При этом присутсвует возможность перебрать n-мерный массив поэлементно, используя аттрибут `flat`"
   ]
  },
  {
   "cell_type": "code",
   "execution_count": null,
   "metadata": {},
   "outputs": [],
   "source": [
    "import numpy as np\n",
    "\n",
    "arr = np.array([[1,2,3],\n",
    "                [4,5,6],\n",
    "                [7,8,9]])\n",
    "\n",
    "for el in arr.flat:\n",
    "  print(el)"
   ]
  },
  {
   "cell_type": "markdown",
   "metadata": {},
   "source": [
    "#### 1.7. Измнение формы массива"
   ]
  },
  {
   "cell_type": "markdown",
   "metadata": {},
   "source": [
    "Массив обладает определнной формой. При этом имеется возможность эту форму изменять. Ниже представлены некоторые способы:\n",
    "\n",
    "* `ravel()` - делает массив одномерным"
   ]
  },
  {
   "cell_type": "code",
   "execution_count": null,
   "metadata": {},
   "outputs": [],
   "source": [
    "import numpy as np\n",
    "\n",
    "arr = np.array([[[[[1,2,3],\n",
    "                [4,5,6],\n",
    "                [7,8,9]]]]])\n",
    "\n",
    "print(f\"arr.ravel() = {arr.ravel()}\")"
   ]
  },
  {
   "cell_type": "markdown",
   "metadata": {},
   "source": [
    "* `transpoce()` - транспонирование"
   ]
  },
  {
   "cell_type": "code",
   "execution_count": null,
   "metadata": {},
   "outputs": [],
   "source": [
    "import numpy as np\n",
    "\n",
    "arr = np.array([[1,2,3],\n",
    "                [4,5,6],\n",
    "                [7,8,9]])\n",
    "\n",
    "print(f\"arr.transpose() =\\n{arr.transpose()}\")"
   ]
  },
  {
   "cell_type": "markdown",
   "metadata": {},
   "source": [
    "* `shape` - изменение формы массива, `reshape()` - возвращает новый массив измененной формы"
   ]
  },
  {
   "cell_type": "code",
   "execution_count": 23,
   "metadata": {},
   "outputs": [
    {
     "name": "stdout",
     "output_type": "stream",
     "text": [
      "arr.shape = (4,2) =>\n",
      "[[1 2]\n",
      " [3 4]\n",
      " [5 6]\n",
      " [7 8]]\n",
      "\n",
      "arr.reshape(2,4) =>\n",
      "[[1 2 3 4]\n",
      " [5 6 7 8]]\n"
     ]
    }
   ],
   "source": [
    "import numpy as np\n",
    "\n",
    "arr = np.array([[1,2,3,4],\n",
    "                [5,6,7,8]])\n",
    "\n",
    "arr.shape = (4,2)\n",
    "print(f\"arr.shape = (4,2) =>\\n{arr}\\n\")\n",
    "\n",
    "print(f\"arr.reshape(2,4) =>\\n{arr.reshape(2,4)}\")"
   ]
  },
  {
   "cell_type": "markdown",
   "metadata": {},
   "source": [
    "* `resize()` - изменяет форму, при этом может обрезать массив или заполнить нулями, если элементов больше, чем в прошлом"
   ]
  },
  {
   "cell_type": "code",
   "execution_count": 25,
   "metadata": {},
   "outputs": [
    {
     "name": "stdout",
     "output_type": "stream",
     "text": [
      "arr.resize() =\n",
      "[[1 2 3 4]\n",
      " [5 6 7 8]\n",
      " [0 0 0 0]]\n"
     ]
    }
   ],
   "source": [
    "import numpy as np\n",
    "\n",
    "arr = np.array([[1,2,3,4],\n",
    "                [5,6,7,8]])\n",
    "\n",
    "arr.resize(3,4)\n",
    "print(f\"arr.resize() =\\n{arr}\")"
   ]
  },
  {
   "cell_type": "markdown",
   "metadata": {},
   "source": [
    "#### 1.8. Объединение массивов"
   ]
  },
  {
   "cell_type": "markdown",
   "metadata": {},
   "source": [
    "* `np.hstack()` - объединение массивов по первым осям (горизонтально)\n",
    "* `np.vstack()` - объединение массивов по последним осям (вертикально)"
   ]
  },
  {
   "cell_type": "code",
   "execution_count": 26,
   "metadata": {},
   "outputs": [
    {
     "name": "stdout",
     "output_type": "stream",
     "text": [
      "np.hstack(arr1, arr2) =\n",
      "[[ 1  2  3 10 20 30]\n",
      " [ 4  5  6 40 50 60]]\n",
      "\n",
      "np.vstack(arr1, arr2) =\n",
      "[[ 1  2  3]\n",
      " [ 4  5  6]\n",
      " [10 20 30]\n",
      " [40 50 60]]\n"
     ]
    }
   ],
   "source": [
    "import numpy as np\n",
    "\n",
    "arr1 = np.array([[1,2,3],\n",
    "                 [4,5,6]])\n",
    "\n",
    "arr2 = np.array([[10,20,30],\n",
    "                 [40,50,60]])\n",
    "\n",
    "print(f\"np.hstack(arr1, arr2) =\\n{np.hstack((arr1, arr2))}\\n\")\n",
    "print(f\"np.vstack(arr1, arr2) =\\n{np.vstack((arr1, arr2))}\")"
   ]
  },
  {
   "cell_type": "markdown",
   "metadata": {},
   "source": [
    "#### 1.9. Разбиение массивов"
   ]
  },
  {
   "cell_type": "markdown",
   "metadata": {},
   "source": [
    "* `np.hsplit()` - разбиение массива по первым осям (горизонтально)\n",
    "* `np.vsplit()` - объединение массива по последним осям (вертикально)"
   ]
  },
  {
   "cell_type": "code",
   "execution_count": 27,
   "metadata": {},
   "outputs": [
    {
     "name": "stdout",
     "output_type": "stream",
     "text": [
      "np.hsplit(arr, 3) =\n",
      "[[ 1  2]\n",
      " [ 5  6]\n",
      " [ 9 10]]\n",
      "[[ 3  4]\n",
      " [ 7  8]\n",
      " [11 12]]\n",
      "\n",
      "np.vsplit(arr, 3) =\n",
      "[[1 2 3 4]]\n",
      "[[5 6 7 8]]\n",
      "[[ 9 10 11 12]]\n"
     ]
    },
    {
     "data": {
      "text/plain": [
       "[None, None, None]"
      ]
     },
     "execution_count": 27,
     "metadata": {},
     "output_type": "execute_result"
    }
   ],
   "source": [
    "import numpy as np\n",
    "\n",
    "arr = np.array([[1,2,3,4],\n",
    "                [5,6,7,8],\n",
    "                [9,10,11,12]])\n",
    "\n",
    "print(\"np.hsplit(arr, 2) =\")\n",
    "[print(row) for row in np.hsplit(arr, 2)]\n",
    "\n",
    "print(\"\\nnp.vsplit(arr, 3) =\")\n",
    "[print(row) for row in np.vsplit(arr, 3)]"
   ]
  },
  {
   "cell_type": "markdown",
   "metadata": {},
   "source": [
    "#### 1.10. Копия"
   ]
  },
  {
   "cell_type": "markdown",
   "metadata": {},
   "source": [
    "Если попытаться присвоить созданный массив другой переменной, то мы не получим копию массива. Обе переменные будут ссылаться на одну и ту же область памяти"
   ]
  },
  {
   "cell_type": "code",
   "execution_count": 28,
   "metadata": {},
   "outputs": [
    {
     "name": "stdout",
     "output_type": "stream",
     "text": [
      "a is b = True\n"
     ]
    }
   ],
   "source": [
    "import numpy as np\n",
    "\n",
    "a = np.array([1,2,3])\n",
    "\n",
    "b = a\n",
    "\n",
    "print(f\"a is b = {a is b}\")"
   ]
  },
  {
   "cell_type": "markdown",
   "metadata": {},
   "source": [
    "Поверхностная копия (или представление) - данные одинаковые, но можно менять форму, транспонировать и тд"
   ]
  },
  {
   "cell_type": "code",
   "execution_count": 29,
   "metadata": {},
   "outputs": [
    {
     "name": "stdout",
     "output_type": "stream",
     "text": [
      "a =\n",
      "[[ 0  1  2  3]\n",
      " [ 4  5  6  7]\n",
      " [ 8  9 10 11]]\n",
      "\n",
      "b =\n",
      "[[ 0  1  2  3]\n",
      " [ 4  5  6  7]\n",
      " [ 8  9 10 11]]\n",
      "\n",
      "b is a = False\n",
      "\n",
      "\n",
      "\n",
      "ИЗМЕНЕНА ФОРМА b НА (6,2)\n",
      "a =\n",
      "[[ 0  1  2  3]\n",
      " [ 4  5  6  7]\n",
      " [ 8  9 10 11]]\n",
      "\n",
      "b =\n",
      "[[ 0  1]\n",
      " [ 2  3]\n",
      " [ 4  5]\n",
      " [ 6  7]\n",
      " [ 8  9]\n",
      " [10 11]]\n",
      "\n",
      "ЗНАЧЕНИЯ ИЗМЕНЯЮТСЯ\n",
      "a =\n",
      "[[23 23 23 23]\n",
      " [23 23 23 23]\n",
      " [23 23 23 23]]\n",
      "\n",
      "b =\n",
      "[[23 23]\n",
      " [23 23]\n",
      " [23 23]\n",
      " [23 23]\n",
      " [23 23]\n",
      " [23 23]]\n",
      "\n"
     ]
    }
   ],
   "source": [
    "import numpy as np\n",
    "\n",
    "a = np.arange(12).reshape(3,4)\n",
    "print(f\"a =\\n{a}\\n\")\n",
    "\n",
    "b = a.view() # создание представления\n",
    "print(f\"b =\\n{b}\\n\")\n",
    "print(f\"b is a = {b is a}\\n\\n\\n\")\n",
    "\n",
    "print(\"ИЗМЕНЕНА ФОРМА b НА (6,2)\")\n",
    "b.shape = (6,2)\n",
    "print(f\"a =\\n{a}\\n\")\n",
    "print(f\"b =\\n{b}\\n\")\n",
    "\n",
    "print(\"ЗНАЧЕНИЯ ИЗМЕНЯЮТСЯ\")\n",
    "b[:] = 23\n",
    "print(f\"a =\\n{a}\\n\")\n",
    "print(f\"b =\\n{b}\\n\")"
   ]
  },
  {
   "cell_type": "markdown",
   "metadata": {},
   "source": [
    "Глубокая копия - создание абсолютно независимого массива"
   ]
  },
  {
   "cell_type": "code",
   "execution_count": 30,
   "metadata": {},
   "outputs": [
    {
     "name": "stdout",
     "output_type": "stream",
     "text": [
      "b is a = False\n",
      "a =\n",
      "[[ 0  1  2  3]\n",
      " [ 4  5  6  7]\n",
      " [ 8  9 10 11]]\n",
      "\n",
      "b =\n",
      "[[ 0  1  2  3]\n",
      " [ 4  5  6  7]\n",
      " [ 8  9 10 11]]\n",
      "\n",
      "\n",
      "\n",
      "ЗНАЧЕНИЯ ИЗМЕНЯЮТСЯ\n",
      "a =\n",
      "[[ 0  1  2  3]\n",
      " [ 4  5  6  7]\n",
      " [ 8  9 10 11]]\n",
      "\n",
      "b =\n",
      "[[23 23 23 23]\n",
      " [23 23 23 23]\n",
      " [23 23 23 23]]\n",
      "\n"
     ]
    }
   ],
   "source": [
    "import numpy as np\n",
    "\n",
    "a = np.arange(12).reshape(3,4)\n",
    "b = a.copy() # cоздание глубокой копии\n",
    "\n",
    "print(f\"b is a = {b is a}\")\n",
    "print(f\"a =\\n{a}\\n\")\n",
    "print(f\"b =\\n{b}\\n\")\n",
    "\n",
    "print(\"\\n\\nЗНАЧЕНИЯ ИЗМЕНЯЮТСЯ\")\n",
    "b[:] = 23\n",
    "print(f\"a =\\n{a}\\n\")\n",
    "print(f\"b =\\n{b}\\n\")"
   ]
  },
  {
   "cell_type": "markdown",
   "metadata": {},
   "source": [
    "### 2. Модуль numpy.linalg"
   ]
  },
  {
   "cell_type": "markdown",
   "metadata": {},
   "source": [
    "#### 2.1. О модуле"
   ]
  },
  {
   "cell_type": "markdown",
   "metadata": {},
   "source": [
    "**Модуль numpy.linalg** - модуль, позволяющий делать многие операции из линейной алгебры. Документация: [ссылка](https://numpy.org/doc/stable/reference/routines.linalg.html)"
   ]
  },
  {
   "cell_type": "markdown",
   "metadata": {},
   "source": [
    "#### 2.2. Некотрые примеры"
   ]
  },
  {
   "cell_type": "markdown",
   "metadata": {},
   "source": [
    "* `linalg.matrix_power(M, n)` - возводит матрицу в степень n\n",
    "\n",
    "* `linalg.cholesky(a)` - разложение Холецкого\n",
    "\n",
    "* `linalg.qr(a[, mode])` - QR разложение.\n",
    "\n",
    "* `linalg.svd(a[, full_matrices, compute_uv])` - сингулярное разложение.\n",
    "\n",
    "* `linalg.eig(a)` - собственные значения и собственные векторы.\n",
    "\n",
    "* `linalg.norm(x[, ord, axis])` - норма вектора или оператора.\n",
    "\n",
    "* `linalg.cond(x[, p])` - число обусловленности.\n",
    "\n",
    "* `linalg.det(a)` - определитель.\n",
    "\n",
    "* `linalg.slogdet(a)` - знак и логарифм определителя (для избежания переполнения, если сам определитель очень маленький).\n",
    "\n",
    "* `linalg.solve(a, b)` - решает систему линейных уравнений Ax = b.\n",
    "\n",
    "* `linalg.tensorsolve(a, b[, axes])` - решает тензорную систему линейных уравнений Ax = b.\n",
    "\n",
    "* `linalg.lstsq(a, b[, rcond])` - метод наименьших квадратов.\n",
    "\n",
    "* `linalg.inv(a)` - обратная матрица.\n"
   ]
  },
  {
   "cell_type": "code",
   "execution_count": null,
   "metadata": {},
   "outputs": [],
   "source": [
    "import numpy as np\n",
    "import numpy.linalg as linalg\n",
    "\n",
    "arr = np.eye(10_000)\n",
    "\n",
    "print(f\"linalg.det(arr) = {linalg.det(arr)}\")"
   ]
  }
 ],
 "metadata": {
  "kernelspec": {
   "display_name": "Python 3",
   "language": "python",
   "name": "python3"
  },
  "language_info": {
   "codemirror_mode": {
    "name": "ipython",
    "version": 3
   },
   "file_extension": ".py",
   "mimetype": "text/x-python",
   "name": "python",
   "nbconvert_exporter": "python",
   "pygments_lexer": "ipython3",
   "version": "3.11.5"
  }
 },
 "nbformat": 4,
 "nbformat_minor": 2
}
