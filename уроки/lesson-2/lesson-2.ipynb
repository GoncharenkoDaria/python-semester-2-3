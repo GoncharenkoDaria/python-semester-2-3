{
 "cells": [
  {
   "cell_type": "markdown",
   "metadata": {},
   "source": [
    "# Занятие 2"
   ]
  },
  {
   "cell_type": "markdown",
   "metadata": {},
   "source": [
    "## Файлы и исключения"
   ]
  },
  {
   "cell_type": "markdown",
   "metadata": {},
   "source": [
    "### 1. Исключения"
   ]
  },
  {
   "cell_type": "markdown",
   "metadata": {},
   "source": [
    "#### 1.1. Понятие"
   ]
  },
  {
   "cell_type": "markdown",
   "metadata": {},
   "source": [
    "**Исключения (exceptions)** - ещё один тип данных в python. Исключения необходимы для того, чтобы сообщать программисту об ошибках."
   ]
  },
  {
   "cell_type": "code",
   "execution_count": null,
   "metadata": {},
   "outputs": [],
   "source": [
    "divisionResult = 23 / 0\n",
    "\n",
    "print(divisionResult)"
   ]
  },
  {
   "cell_type": "markdown",
   "metadata": {},
   "source": [
    "#### 1.2. Перехват ошибок"
   ]
  },
  {
   "cell_type": "markdown",
   "metadata": {},
   "source": [
    "Используем конструкцию\n",
    "```python\n",
    "try:\n",
    "  <code> # код, который может вызвать ошибку\n",
    "except:\n",
    "  <code> # код, который выполнится, если исключение возникло\n",
    "else:\n",
    "  <code> # код, который выполнится, если исключение не возникло\n",
    "finally:\n",
    "  <code> # код, который выполнится в любом случае (применяется крайне редко)\n",
    "```"
   ]
  },
  {
   "cell_type": "code",
   "execution_count": null,
   "metadata": {},
   "outputs": [],
   "source": [
    "try:\n",
    "  divisionResult = 23 / 1\n",
    "except:\n",
    "  print(f\"Деление на ноль\")\n",
    "else:\n",
    "  print(divisionResult)\n",
    "finally:\n",
    "  print(\"hello\")"
   ]
  },
  {
   "cell_type": "markdown",
   "metadata": {},
   "source": [
    "#### 1.3. Способы обработки перехваченной ошибки"
   ]
  },
  {
   "cell_type": "markdown",
   "metadata": {},
   "source": [
    "##### 1.3.1. Перехватываем все"
   ]
  },
  {
   "cell_type": "code",
   "execution_count": null,
   "metadata": {},
   "outputs": [],
   "source": [
    "try:\n",
    "  divider = int(input(\"Введите делитель: \"))\n",
    "  result = 100 / divider\n",
    "except:\n",
    "  print(\"Деление на ноль\")\n",
    "else:\n",
    "  print(f\"Результат деления: {result}\")"
   ]
  },
  {
   "cell_type": "markdown",
   "metadata": {},
   "source": [
    "##### 1.3.2. Перехватываем конкретные ошибки"
   ]
  },
  {
   "cell_type": "code",
   "execution_count": null,
   "metadata": {},
   "outputs": [],
   "source": [
    "try:\n",
    "  divider = int(input(\"Введите делитель: \"))\n",
    "  result = 100 / divider\n",
    "except ZeroDivisionError:\n",
    "  print(\"Деление на ноль\")\n",
    "except ValueError:\n",
    "  print(\"Введено не целое число\")\n",
    "else:\n",
    "  print(f\"Результат деления: {result}\")"
   ]
  },
  {
   "cell_type": "markdown",
   "metadata": {},
   "source": [
    "##### 1.3.3. Получаем сообщение любой ошибки"
   ]
  },
  {
   "cell_type": "code",
   "execution_count": null,
   "metadata": {},
   "outputs": [],
   "source": [
    "try:\n",
    "  divider = int(input(\"Введите делитель: \"))\n",
    "  result = 100 / divider\n",
    "except Exception as err:\n",
    "  print(f\"Произошла ошибка: {err}\")\n",
    "else:\n",
    "  print(f\"Результат деления: {result}\")"
   ]
  },
  {
   "cell_type": "markdown",
   "metadata": {},
   "source": [
    "##### 1.3.4. Комбинируем"
   ]
  },
  {
   "cell_type": "code",
   "execution_count": null,
   "metadata": {},
   "outputs": [],
   "source": [
    "try:\n",
    "  divider = int(input(\"Введите делитель: \"))\n",
    "  result = 100 / divider\n",
    "except ValueError:\n",
    "  print(\"Введено не целое число\")\n",
    "except Exception as err:\n",
    "  print(f\"Произошла неожиданная ошибка: {err}\")\n",
    "else:\n",
    "  print(f\"Результат деления: {result}\")"
   ]
  },
  {
   "cell_type": "markdown",
   "metadata": {},
   "source": [
    "#### 1.4. Пример ввода числа, используя конструкцию try-except"
   ]
  },
  {
   "cell_type": "code",
   "execution_count": null,
   "metadata": {},
   "outputs": [],
   "source": [
    "from datetime import date\n",
    "\n",
    "currentYear = date.today().year\n",
    "\n",
    "while True: # пока не введем правильно - цикл не прекратится\n",
    "  try:\n",
    "    age = int(input(\"Введите Ваш возраст: \"))\n",
    "    break\n",
    "  except ValueError:\n",
    "    print(f\"Ошибка: возраст - целое число\")\n",
    "\n",
    "print(f\"Вы родились в {currentYear - age} году (с точностью в 1 год)\")"
   ]
  },
  {
   "cell_type": "markdown",
   "metadata": {},
   "source": [
    "#### 1.5. Углубление в ошибки *"
   ]
  },
  {
   "cell_type": "markdown",
   "metadata": {},
   "source": [
    "##### 1.5.1. Создать свою ошибку"
   ]
  },
  {
   "cell_type": "code",
   "execution_count": null,
   "metadata": {},
   "outputs": [],
   "source": [
    "class InvalidAgeException(Exception):\n",
    "  pass\n",
    "\n",
    "def enterAge():\n",
    "  age = int(input(\"Введите ваш возраст: \"))\n",
    "\n",
    "  if age < 18:\n",
    "    raise InvalidAgeException\n",
    "  \n",
    "  return age\n",
    "\n",
    "try:\n",
    "  print(f\"Ваш возраст: {enterAge()}\")\n",
    "except InvalidAgeException:\n",
    "  print(\"Ошибка: возраст должен быть не меньше 18\")\n",
    "except Exception as err:\n",
    "  print(f\"Неожиданная ошибка: {err}\")\n"
   ]
  },
  {
   "cell_type": "markdown",
   "metadata": {},
   "source": [
    "##### 1.5.2. Более сложное создание своей ошибки"
   ]
  },
  {
   "cell_type": "code",
   "execution_count": null,
   "metadata": {},
   "outputs": [],
   "source": [
    "AVAILABLE_AGE = 18 # такие данные часто идут из конфигурационных файлов\n",
    "\n",
    "class InvalidAgeException(Exception):\n",
    "  def __init__(self, enteredAge: int):\n",
    "    message = f\"Вы ввели возраст {enteredAge}, но он должен быть не менее {AVAILABLE_AGE}\"\n",
    "    super().__init__(message)\n",
    "\n",
    "\n",
    "def checkAge(age: int) -> None:\n",
    "  if age < AVAILABLE_AGE:\n",
    "    raise InvalidAgeException(age)\n",
    "\n",
    "def enterAge():\n",
    "  age = int(input(\"Введите ваш возраст: \"))\n",
    "  checkAge(age)\n",
    "  \n",
    "  return age\n",
    "\n",
    "try:\n",
    "  print(f\"Ваш возраст: {enterAge()}\")\n",
    "except InvalidAgeException as ageErr:\n",
    "  print(f\"Ошибка: {ageErr}\")\n",
    "except Exception as err:\n",
    "  print(f\"Неожиданная ошибка: {err}\")"
   ]
  },
  {
   "cell_type": "markdown",
   "metadata": {},
   "source": [
    "### 2. Файлы"
   ]
  },
  {
   "cell_type": "markdown",
   "metadata": {},
   "source": [
    "#### 2.1. Открытие и закрытие файлов"
   ]
  },
  {
   "cell_type": "markdown",
   "metadata": {},
   "source": [
    "##### 2.1.1. Обычное открытие"
   ]
  },
  {
   "cell_type": "code",
   "execution_count": null,
   "metadata": {},
   "outputs": [],
   "source": [
    "file = open(\"test-file-1.txt\") # путь до файла\n",
    "file.close()"
   ]
  },
  {
   "cell_type": "markdown",
   "metadata": {},
   "source": [
    "##### 2.1.2. Правильное открытие"
   ]
  },
  {
   "cell_type": "code",
   "execution_count": null,
   "metadata": {},
   "outputs": [],
   "source": [
    "try:\n",
    "  file = open(\"test-file-1.txt\")\n",
    "except FileNotFoundError:\n",
    "  print(\"Ошибка: Файл не найден\")\n",
    "else:\n",
    "  print(\"Файл открыт успешно\")\n",
    "  file.close()"
   ]
  },
  {
   "cell_type": "markdown",
   "metadata": {},
   "source": [
    "##### 2.1.3. Модное открытие"
   ]
  },
  {
   "cell_type": "code",
   "execution_count": 16,
   "metadata": {},
   "outputs": [
    {
     "name": "stdout",
     "output_type": "stream",
     "text": [
      "Файл успешно открыт\n"
     ]
    }
   ],
   "source": [
    "try:\n",
    "  with open(\"test-file-1.txt\") as f:\n",
    "    print(\"Файл успешно открыт\") # и будет закрыт после выхода из конструкции with\n",
    "except FileNotFoundError:\n",
    "  print(\"Ошибка: Файл не найден\")\n"
   ]
  },
  {
   "cell_type": "markdown",
   "metadata": {},
   "source": [
    "##### 2.1.4. Аргументы функции open()"
   ]
  },
  {
   "cell_type": "markdown",
   "metadata": {},
   "source": [
    "* mode - режим открытия (могут комбинироваться, по умолчанию `rt`):\n",
    "    * `r` - открытие на чтение (по умолчанию)\n",
    "    * `w` - открытие на запись, содержимое файла удаляется, если файла не существует, создается новый\n",
    "    * `x` - открытие на запись, если файла существует, иначе исключение\n",
    "    * `a` - открытие на дозапись, информация добавляется в конец файла\n",
    "    * `b` - открытие в двоичном режиме\n",
    "    * `t` - открытие в текстовом режиме (по умолчанию)\n",
    "    * `+` - открытие на чтение и запись\n",
    "* encoding - кодировка - по умолчанию `utf-8`"
   ]
  },
  {
   "cell_type": "code",
   "execution_count": 21,
   "metadata": {},
   "outputs": [
    {
     "name": "stdout",
     "output_type": "stream",
     "text": [
      "Файл в режиме `r+`:\n",
      "\tможно прочитать: да\n",
      "\tможно записать: да\n"
     ]
    }
   ],
   "source": [
    "mode = \"r+\"\n",
    "file = open(\"test-file-1.txt\", mode)\n",
    "\n",
    "canBeRead = \"да\" if file.readable() else \"нет\"\n",
    "canBeWrite = \"да\" if file.writable() else \"нет\"\n",
    "\n",
    "file.close()\n",
    "\n",
    "print(f\"Файл в режиме `{mode}`:\\n\\tможно прочитать: {canBeRead}\\n\\tможно записать: {canBeWrite}\")"
   ]
  },
  {
   "cell_type": "markdown",
   "metadata": {},
   "source": [
    "#### 2.2. Чтение"
   ]
  },
  {
   "cell_type": "markdown",
   "metadata": {},
   "source": [
    "##### 2.3.1. Функция read(...)"
   ]
  },
  {
   "cell_type": "markdown",
   "metadata": {},
   "source": [
    "`read(size)` - читает файл:\n",
    "* если `size` не задан: читает до конца файла (`EOF`)\n",
    "* если `size` задан: читает переданное кол-во байт"
   ]
  },
  {
   "cell_type": "code",
   "execution_count": 22,
   "metadata": {},
   "outputs": [
    {
     "name": "stdout",
     "output_type": "stream",
     "text": [
      "Текст из файла: Hello\n",
      "World\n",
      "\n"
     ]
    }
   ],
   "source": [
    "f = open(\"test-file-1.txt\")\n",
    "\n",
    "text = f.read()\n",
    "\n",
    "f.close()\n",
    "\n",
    "print(f\"Текст из файла: {text}\")"
   ]
  },
  {
   "cell_type": "markdown",
   "metadata": {},
   "source": [
    "##### 2.3.2. Функция readline(...) (readlines(...))"
   ]
  },
  {
   "cell_type": "markdown",
   "metadata": {},
   "source": [
    "`readline(size)` - читает строку:\n",
    "* если `size` не задан:    читает до символа перехода на новую строку (`\\n`)\n",
    "* если `size` задан: читает переданное кол-во байт, но не дальше символа перехода на новую строку (`\\n`)\n",
    "\n",
    "После прочтения строки, переводит указатель файла на начало новой строки"
   ]
  },
  {
   "cell_type": "code",
   "execution_count": 24,
   "metadata": {},
   "outputs": [
    {
     "name": "stdout",
     "output_type": "stream",
     "text": [
      "Текст из файла: World\n",
      "\n"
     ]
    }
   ],
   "source": [
    "f = open(\"test-file-1.txt\")\n",
    "\n",
    "text = f.readline()\n",
    "text = f.readline()\n",
    "\n",
    "f.close()\n",
    "\n",
    "print(f\"Текст из файла: {text}\")"
   ]
  },
  {
   "cell_type": "markdown",
   "metadata": {},
   "source": [
    "`readlines(size)` - читает строки и формирует список:\n",
    "* если `size` задан: читает указанное количество строк, но не дальше конца файла\n",
    "* если `size` не задан: читает весь файл"
   ]
  },
  {
   "cell_type": "code",
   "execution_count": 25,
   "metadata": {},
   "outputs": [
    {
     "name": "stdout",
     "output_type": "stream",
     "text": [
      "Текст из файла: ['Hello\\n', 'World\\n']\n"
     ]
    }
   ],
   "source": [
    "f = open(\"test-file-1.txt\")\n",
    "\n",
    "text = f.readlines()\n",
    "f.close()\n",
    "\n",
    "print(f\"Текст из файла: {text}\")"
   ]
  },
  {
   "cell_type": "markdown",
   "metadata": {},
   "source": [
    "##### 2.3.3. Прочтение циклом"
   ]
  },
  {
   "cell_type": "code",
   "execution_count": 26,
   "metadata": {},
   "outputs": [
    {
     "name": "stdout",
     "output_type": "stream",
     "text": [
      "1: Hello\n",
      "\n",
      "2: World\n",
      "\n"
     ]
    }
   ],
   "source": [
    "f = open('test-file-1.txt')\n",
    "\n",
    "ind = 1\n",
    "\n",
    "for line in f:\n",
    "  print(f\"{ind}: {line}\")\n",
    "  ind += 1\n",
    "\n",
    "f.close()"
   ]
  },
  {
   "cell_type": "markdown",
   "metadata": {},
   "source": [
    "#### 2.3. Запись"
   ]
  },
  {
   "cell_type": "markdown",
   "metadata": {},
   "source": [
    "##### 2.3.1. Функция write(...)"
   ]
  },
  {
   "cell_type": "markdown",
   "metadata": {},
   "source": [
    "`write()` - записывает в файл, возвращает кол-во записанных байт"
   ]
  },
  {
   "cell_type": "code",
   "execution_count": 27,
   "metadata": {},
   "outputs": [
    {
     "name": "stdout",
     "output_type": "stream",
     "text": [
      "Байт записано: 9\n"
     ]
    }
   ],
   "source": [
    "f = open(\"test-file-2.txt\", \"w\")\n",
    "\n",
    "bytes = f.write(\"Some text\")\n",
    "\n",
    "f.close()\n",
    "\n",
    "print(f\"Байт записано: {bytes}\")"
   ]
  },
  {
   "cell_type": "markdown",
   "metadata": {},
   "source": [
    "##### 2.3.2. Функция writelines(...)"
   ]
  },
  {
   "cell_type": "markdown",
   "metadata": {},
   "source": [
    "`writelines()` - записывает массив переданных строк в файл"
   ]
  },
  {
   "cell_type": "code",
   "execution_count": 28,
   "metadata": {},
   "outputs": [],
   "source": [
    "f = open(\"test-file-2.txt\", \"w\")\n",
    "\n",
    "lines = [\"First\", \"Second\", \"Third\"]\n",
    "\n",
    "f.writelines(lines)\n",
    "\n",
    "f.close()"
   ]
  },
  {
   "cell_type": "markdown",
   "metadata": {},
   "source": [
    "#### 2.4. Указатель файла"
   ]
  },
  {
   "cell_type": "markdown",
   "metadata": {},
   "source": [
    "`seek(offset[, from_what])` - устанавливает указатель файла на новое место:\n",
    "* `offset` - смещение в байтах, относительно места, определяемого `from_what`\n",
    "* `from_what` - откуда следует осуществить смещение\n",
    "    * `0` - от начала файла (по умолчанию)\n",
    "    * `1` - от текущей позиции\n",
    "    * `2` - от конца файла\n",
    "\n",
    "\n",
    "`tell()` - возвращает текущую позицию указателя (количество байт) в файле, с которой будет осуществляться следущая операция чтения или записии"
   ]
  },
  {
   "cell_type": "code",
   "execution_count": 29,
   "metadata": {},
   "outputs": [
    {
     "name": "stdout",
     "output_type": "stream",
     "text": [
      "Символ: W, позиция в файле: 7\n"
     ]
    }
   ],
   "source": [
    "f = open(\"test-file-1.txt\", \"r\") \n",
    "\n",
    "f.seek(6) # 7-ой байт от начала файла (позиция перед 7-ым байтом)\n",
    "print(f\"Символ: {f.read(1)}, позиция в файле: {f.tell()}\")\n",
    "\n",
    "f.close()"
   ]
  },
  {
   "cell_type": "markdown",
   "metadata": {},
   "source": [
    "#### 2.5. Пример: чтение excel файла (csv)"
   ]
  },
  {
   "cell_type": "markdown",
   "metadata": {},
   "source": [
    "**УПОМИНАНИЕ**: При чтении файла, экспортированного из Excel, может возникнуть в начале строки набор символов `cef4`, тогда его надо будет удалить из строки\n",
    "\n",
    "\n",
    "Для примера составим excel-табличку работников, которая будет содержать следующие колонки:\n",
    "* имя;\n",
    "* род деятельности;\n",
    "* возраст.\n",
    "\n",
    "Заполним ее следующими данными:\n",
    "\n",
    "| NAME    | JOB        | AGE |\n",
    "|---------|------------|-----|\n",
    "| Ivan    | Programmer | 22  |\n",
    "| Petr    | Lawyer     | 35  |\n",
    "| Sergey  | Teacher    | 25  |\n",
    "\n",
    "Необходимо:\n",
    "* экспортировать этот файл в CSV\n",
    "* прочитать данные из полученного CSV файла\n",
    "* записать список сотрудников, представив каждого отдельного как словарь, у которого ключ - название соответсвующей колонки, а значение - информация из соответсвующей колонки\n"
   ]
  },
  {
   "cell_type": "code",
   "execution_count": 30,
   "metadata": {},
   "outputs": [
    {
     "name": "stdout",
     "output_type": "stream",
     "text": [
      "{'NAME': 'Ivan', 'JOB': 'Programmer', 'AGE': '22'}\n",
      "{'NAME': 'Petr', 'JOB': 'Lawyer', 'AGE': '35'}\n",
      "{'NAME': 'Sergey', 'JOB': 'Teacher', 'AGE': '25'}\n"
     ]
    }
   ],
   "source": [
    "FILE_PATH = \"test.csv\"                                          # 0. путь до файла\n",
    "DELIMETR = \";\"                                                  # 1. разделитель строки в файле\n",
    "\n",
    "def readEmployees(filePath=FILE_PATH) -> list[dict]:\n",
    "  try:\n",
    "    with open(filePath) as f:                                   # 1. открыть файл\n",
    "      lines = f.readlines()                                     # 2. прочитать все строчки файла\n",
    "  except FileNotFoundError:\n",
    "    print(f\"По пути `{filePath}` файл не найден\")               # 3. обработать ошибку отсуствия файла\n",
    "    return                                                      # 4. выходим из функции, тк продолжать нет смысла\n",
    "  \n",
    "  employees = list()                                            # 5. переменная для списка сотрудников\n",
    "  columnNames = lines.pop(0).removesuffix(\"\\n\").split(DELIMETR) # 6. получем список колонок, удалив \\n и разбив их,\n",
    "                                                                #    а также удалим данную строку из списка наших строк файла\n",
    "\n",
    "  for line in lines:                                            # 7. цикл по всем строкам файла\n",
    "    employeeDataList = line.removesuffix(\"\\n\").split(DELIMETR)  # 8. разбиваем строку и удаляем \\n\n",
    "    employeeData = dict()                                       # 9. переменная-словарь под конкретного сотрудника\n",
    "    \n",
    "    for ind in range(len(columnNames)):                         # 10. цикл по кол-ву элементов (колонок) строки\n",
    "      employeeData[columnNames[ind]] = employeeDataList[ind]    # 11. добавление в словарь сотрудника: ключ=название колонки, значение=колонка\n",
    "\n",
    "    employees.append(employeeData)                              # 12. добавить словарь с данными сотрудника в список сотрудников\n",
    "\n",
    "  return employees                                              # 13. вернуть из функции список сотрудников                        \n",
    "\n",
    "\n",
    "employees = readEmployees()                                     # 14. вызвать функцию и получить список сотрудников\n",
    "\n",
    "for empl in employees:                                          # 15. распечатать информацию о сотрудниках\n",
    "  print(empl)\n",
    "\n",
    "# [print(empl) for empl in employees]\n",
    "\n",
    "# Не помешает проверка, равное ли кол-во колонок имеет список имен и список данных отдельно взятого сотрудника \n"
   ]
  }
 ],
 "metadata": {
  "kernelspec": {
   "display_name": "Python 3",
   "language": "python",
   "name": "python3"
  },
  "language_info": {
   "codemirror_mode": {
    "name": "ipython",
    "version": 3
   },
   "file_extension": ".py",
   "mimetype": "text/x-python",
   "name": "python",
   "nbconvert_exporter": "python",
   "pygments_lexer": "ipython3",
   "version": "3.11.5"
  },
  "orig_nbformat": 4
 },
 "nbformat": 4,
 "nbformat_minor": 2
}
